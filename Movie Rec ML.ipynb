{
 "cells": [
  {
   "cell_type": "code",
   "execution_count": 1,
   "id": "b98c2b6e",
   "metadata": {},
   "outputs": [],
   "source": [
    "import pandas as pd\n",
    "from sklearn.neighbors import NearestNeighbors\n"
   ]
  },
  {
   "cell_type": "code",
   "execution_count": 2,
   "id": "a417bbfb",
   "metadata": {},
   "outputs": [
    {
     "name": "stdout",
     "output_type": "stream",
     "text": [
      "                      Movie  Action  Comedy  Romance  Drama  \\\n",
      "0  The Shawshank Redemption       6       4        5     10   \n",
      "1             The Godfather       8       4        7     10   \n",
      "2    The Godfather: Part II       8       3        7     10   \n",
      "3           The Dark Knight      10       6        5      9   \n",
      "4              12 Angry Men       4       3        3     10   \n",
      "\n",
      "   Acting Performance  \n",
      "0                   9  \n",
      "1                  10  \n",
      "2                  10  \n",
      "3                  10  \n",
      "4                  10  \n"
     ]
    }
   ],
   "source": [
    "\n",
    "# Load the CSV file into a DataFrame\n",
    "file_path = 'movie_ratings.csv'  # Replace this with your file path\n",
    "data = pd.read_csv(file_path)\n",
    "\n",
    "# Display the first few rows of the dataset\n",
    "print(data.head())\n",
    "\n",
    "\n"
   ]
  },
  {
   "cell_type": "code",
   "execution_count": 3,
   "id": "65d2dda1",
   "metadata": {},
   "outputs": [
    {
     "name": "stdout",
     "output_type": "stream",
     "text": [
      "Enter the number of movies you want to find: 3\n",
      "Enter your ratings (from 1 to 10) for Action, Comedy, Romance, Drama, Acting Performance:\n",
      "Enter rating for Action: 5\n",
      "Enter rating for Comedy: 2\n",
      "Enter rating for Romance: 5\n",
      "Enter rating for Drama: 3\n",
      "Enter rating for Acting Performance: 5\n"
     ]
    }
   ],
   "source": [
    "# Extracting features (Action, Comedy, Romance, Drama, Acting Performance)\n",
    "features = data[['Action', 'Comedy', 'Romance', 'Drama', 'Acting Performance']]\n",
    "\n",
    "# Creating a KNN model\n",
    "knn_model = NearestNeighbors(n_neighbors=5, algorithm='auto')  # You can adjust the number of neighbors here\n",
    "\n",
    "# Fitting the model with the features\n",
    "knn_model.fit(features)\n",
    "\n",
    "# User input - Enter the number of movies and their ratings for each category\n",
    "num_movies = int(input(\"Enter the number of movies you want to find: \"))\n",
    "user_ratings = []\n",
    "print(\"Enter your ratings (from 1 to 10) for Action, Comedy, Romance, Drama, Acting Performance:\")\n",
    "ratings = []\n",
    "for category in ['Action', 'Comedy', 'Romance', 'Drama', 'Acting Performance']:\n",
    "    rating = int(input(f\"Enter rating for {category}: \"))\n",
    "    ratings.append(rating)\n",
    "\n"
   ]
  },
  {
   "cell_type": "code",
   "execution_count": 12,
   "id": "e4dacabc",
   "metadata": {},
   "outputs": [
    {
     "name": "stdout",
     "output_type": "stream",
     "text": [
      "\n",
      "Movies closest to your criteria:\n",
      "Movie Name: The Shawshank Redemption\n",
      "Characteristics:\n",
      "Action: 6\n",
      "Comedy: 4\n",
      "Romance: 5\n",
      "Drama: 10\n",
      "Acting Performance: 9\n",
      "------------------------------------------\n",
      "Movie Name: The Matrix\n",
      "Characteristics:\n",
      "Action: 10\n",
      "Comedy: 6\n",
      "Romance: 5\n",
      "Drama: 8\n",
      "Acting Performance: 8\n",
      "------------------------------------------\n",
      "Movie Name: Schindler's List\n",
      "Characteristics:\n",
      "Action: 7\n",
      "Comedy: 2\n",
      "Romance: 6\n",
      "Drama: 10\n",
      "Acting Performance: 10\n",
      "------------------------------------------\n"
     ]
    }
   ],
   "source": [
    "# Displaying movies characteristics (including features) based on indices, limited to num_movies\n",
    "print(\"\\nMovies closest to your criteria:\")\n",
    "for idx in indices[0][:num_movies]:  # Limiting to num_movies\n",
    "    movie_data = data.iloc[idx]  # Get entire row corresponding to the movie\n",
    "    print(f\"Movie Name: {movie_data['Movie']}\")\n",
    "    print(\"Characteristics:\")\n",
    "    for column in ['Action', 'Comedy', 'Romance', 'Drama', 'Acting Performance']:\n",
    "        print(f\"{column}: {movie_data[column]}\")\n",
    "    print(\"------------------------------------------\")"
   ]
  },
  {
   "cell_type": "code",
   "execution_count": null,
   "id": "a4bbcb6f",
   "metadata": {},
   "outputs": [],
   "source": [
    "# "
   ]
  }
 ],
 "metadata": {
  "kernelspec": {
   "display_name": "Python 3 (ipykernel)",
   "language": "python",
   "name": "python3"
  },
  "language_info": {
   "codemirror_mode": {
    "name": "ipython",
    "version": 3
   },
   "file_extension": ".py",
   "mimetype": "text/x-python",
   "name": "python",
   "nbconvert_exporter": "python",
   "pygments_lexer": "ipython3",
   "version": "3.11.5"
  }
 },
 "nbformat": 4,
 "nbformat_minor": 5
}
