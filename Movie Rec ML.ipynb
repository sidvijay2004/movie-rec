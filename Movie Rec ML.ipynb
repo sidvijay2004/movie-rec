{
 "cells": [
  {
   "cell_type": "code",
   "execution_count": 1,
   "id": "b98c2b6e",
   "metadata": {},
   "outputs": [],
   "source": [
    "import pandas as pd\n",
    "from sklearn.neighbors import NearestNeighbors\n"
   ]
  },
  {
   "cell_type": "code",
   "execution_count": 34,
   "id": "a417bbfb",
   "metadata": {},
   "outputs": [
    {
     "name": "stdout",
     "output_type": "stream",
     "text": [
      "                       Movie Title  TMDBId  Comedy  Romance  Drama  Action  \\\n",
      "0  The Shawshank Redemption (1994)     278       2        1     10       3   \n",
      "1             The Godfather (1972)     238       2        3     10       4   \n",
      "2    The Godfather: Part II (1974)     240       2        3     10       4   \n",
      "3           The Dark Knight (2008)     155       3        2      8       9   \n",
      "4              12 Angry Men (1957)     389       2        1     10       1   \n",
      "\n",
      "   Acting Performance  Engagingness  \n",
      "0                  10            10  \n",
      "1                  10             9  \n",
      "2                  10             9  \n",
      "3                  10            10  \n",
      "4                  10             9  \n"
     ]
    }
   ],
   "source": [
    "\n",
    "# Load the CSV file into a DataFrame\n",
    "file_path = 'movie_dataset.csv'  # Replace this with your file path\n",
    "data = pd.read_csv(file_path)\n",
    "\n",
    "# Display the first few rows of the dataset\n",
    "print(data.head())\n",
    "\n",
    "\n"
   ]
  },
  {
   "cell_type": "code",
   "execution_count": 40,
   "id": "65d2dda1",
   "metadata": {},
   "outputs": [],
   "source": [
    "# Define the weights for the features\n",
    "weights = {'Comedy': 1.5, 'Romance': 1, 'Drama': 2, 'Action': 1, 'Acting Performance': 1.5, 'Engagingness': 1}\n",
    "\n",
    "# Extracting features and applying weights\n",
    "# Ensure these columns match exactly those in the CSV\n",
    "weighted_features = data[list(weights.keys())].copy()\n",
    "\n",
    "for column, weight in weights.items():\n",
    "    weighted_features[column] *= weight"
   ]
  },
  {
   "cell_type": "code",
   "execution_count": 41,
   "id": "e4dacabc",
   "metadata": {},
   "outputs": [
    {
     "data": {
      "text/html": [
       "<style>#sk-container-id-7 {color: black;}#sk-container-id-7 pre{padding: 0;}#sk-container-id-7 div.sk-toggleable {background-color: white;}#sk-container-id-7 label.sk-toggleable__label {cursor: pointer;display: block;width: 100%;margin-bottom: 0;padding: 0.3em;box-sizing: border-box;text-align: center;}#sk-container-id-7 label.sk-toggleable__label-arrow:before {content: \"▸\";float: left;margin-right: 0.25em;color: #696969;}#sk-container-id-7 label.sk-toggleable__label-arrow:hover:before {color: black;}#sk-container-id-7 div.sk-estimator:hover label.sk-toggleable__label-arrow:before {color: black;}#sk-container-id-7 div.sk-toggleable__content {max-height: 0;max-width: 0;overflow: hidden;text-align: left;background-color: #f0f8ff;}#sk-container-id-7 div.sk-toggleable__content pre {margin: 0.2em;color: black;border-radius: 0.25em;background-color: #f0f8ff;}#sk-container-id-7 input.sk-toggleable__control:checked~div.sk-toggleable__content {max-height: 200px;max-width: 100%;overflow: auto;}#sk-container-id-7 input.sk-toggleable__control:checked~label.sk-toggleable__label-arrow:before {content: \"▾\";}#sk-container-id-7 div.sk-estimator input.sk-toggleable__control:checked~label.sk-toggleable__label {background-color: #d4ebff;}#sk-container-id-7 div.sk-label input.sk-toggleable__control:checked~label.sk-toggleable__label {background-color: #d4ebff;}#sk-container-id-7 input.sk-hidden--visually {border: 0;clip: rect(1px 1px 1px 1px);clip: rect(1px, 1px, 1px, 1px);height: 1px;margin: -1px;overflow: hidden;padding: 0;position: absolute;width: 1px;}#sk-container-id-7 div.sk-estimator {font-family: monospace;background-color: #f0f8ff;border: 1px dotted black;border-radius: 0.25em;box-sizing: border-box;margin-bottom: 0.5em;}#sk-container-id-7 div.sk-estimator:hover {background-color: #d4ebff;}#sk-container-id-7 div.sk-parallel-item::after {content: \"\";width: 100%;border-bottom: 1px solid gray;flex-grow: 1;}#sk-container-id-7 div.sk-label:hover label.sk-toggleable__label {background-color: #d4ebff;}#sk-container-id-7 div.sk-serial::before {content: \"\";position: absolute;border-left: 1px solid gray;box-sizing: border-box;top: 0;bottom: 0;left: 50%;z-index: 0;}#sk-container-id-7 div.sk-serial {display: flex;flex-direction: column;align-items: center;background-color: white;padding-right: 0.2em;padding-left: 0.2em;position: relative;}#sk-container-id-7 div.sk-item {position: relative;z-index: 1;}#sk-container-id-7 div.sk-parallel {display: flex;align-items: stretch;justify-content: center;background-color: white;position: relative;}#sk-container-id-7 div.sk-item::before, #sk-container-id-7 div.sk-parallel-item::before {content: \"\";position: absolute;border-left: 1px solid gray;box-sizing: border-box;top: 0;bottom: 0;left: 50%;z-index: -1;}#sk-container-id-7 div.sk-parallel-item {display: flex;flex-direction: column;z-index: 1;position: relative;background-color: white;}#sk-container-id-7 div.sk-parallel-item:first-child::after {align-self: flex-end;width: 50%;}#sk-container-id-7 div.sk-parallel-item:last-child::after {align-self: flex-start;width: 50%;}#sk-container-id-7 div.sk-parallel-item:only-child::after {width: 0;}#sk-container-id-7 div.sk-dashed-wrapped {border: 1px dashed gray;margin: 0 0.4em 0.5em 0.4em;box-sizing: border-box;padding-bottom: 0.4em;background-color: white;}#sk-container-id-7 div.sk-label label {font-family: monospace;font-weight: bold;display: inline-block;line-height: 1.2em;}#sk-container-id-7 div.sk-label-container {text-align: center;}#sk-container-id-7 div.sk-container {/* jupyter's `normalize.less` sets `[hidden] { display: none; }` but bootstrap.min.css set `[hidden] { display: none !important; }` so we also need the `!important` here to be able to override the default hidden behavior on the sphinx rendered scikit-learn.org. See: https://github.com/scikit-learn/scikit-learn/issues/21755 */display: inline-block !important;position: relative;}#sk-container-id-7 div.sk-text-repr-fallback {display: none;}</style><div id=\"sk-container-id-7\" class=\"sk-top-container\"><div class=\"sk-text-repr-fallback\"><pre>NearestNeighbors()</pre><b>In a Jupyter environment, please rerun this cell to show the HTML representation or trust the notebook. <br />On GitHub, the HTML representation is unable to render, please try loading this page with nbviewer.org.</b></div><div class=\"sk-container\" hidden><div class=\"sk-item\"><div class=\"sk-estimator sk-toggleable\"><input class=\"sk-toggleable__control sk-hidden--visually\" id=\"sk-estimator-id-7\" type=\"checkbox\" checked><label for=\"sk-estimator-id-7\" class=\"sk-toggleable__label sk-toggleable__label-arrow\">NearestNeighbors</label><div class=\"sk-toggleable__content\"><pre>NearestNeighbors()</pre></div></div></div></div></div>"
      ],
      "text/plain": [
       "NearestNeighbors()"
      ]
     },
     "execution_count": 41,
     "metadata": {},
     "output_type": "execute_result"
    }
   ],
   "source": [
    "# Creating a KNN model\n",
    "knn_model = NearestNeighbors(n_neighbors=5, algorithm='auto')\n",
    "knn_model.fit(weighted_features)"
   ]
  },
  {
   "cell_type": "code",
   "execution_count": 45,
   "id": "a4bbcb6f",
   "metadata": {},
   "outputs": [
    {
     "name": "stdout",
     "output_type": "stream",
     "text": [
      "Enter the number of movies you want to find: 3\n",
      "Enter your ratings (from 1 to 10) for each category:\n",
      "Enter rating for Comedy: 2\n",
      "Enter rating for Romance: 1\n",
      "Enter rating for Drama: 10\n",
      "Enter rating for Action: 3\n",
      "Enter rating for Acting Performance: 10\n",
      "Enter rating for Engagingness: 10\n"
     ]
    }
   ],
   "source": [
    "# User input for number of movies to find\n",
    "num_movies = int(input(\"Enter the number of movies you want to find: \"))\n",
    "\n",
    "# Ask for user ratings, apply weights, and convert to DataFrame with feature names\n",
    "print(\"Enter your ratings (from 1 to 10) for each category:\")\n",
    "user_ratings = {}\n",
    "for category in weights.keys():\n",
    "    user_ratings[category] = int(input(f\"Enter rating for {category}: \")) * weights[category]\n",
    "\n",
    "# Convert user ratings to a DataFrame\n",
    "user_ratings_df = pd.DataFrame([user_ratings])"
   ]
  },
  {
   "cell_type": "code",
   "execution_count": 46,
   "id": "3cfcf848",
   "metadata": {},
   "outputs": [],
   "source": [
    "# Finding the nearest neighbors\n",
    "distances, indices = knn_model.kneighbors(user_ratings_df)"
   ]
  },
  {
   "cell_type": "code",
   "execution_count": 47,
   "id": "194d289b",
   "metadata": {},
   "outputs": [
    {
     "name": "stdout",
     "output_type": "stream",
     "text": [
      "\n",
      "Movies closest to your criteria:\n",
      "Movie Name: The Shawshank Redemption (1994)\n",
      "Characteristics:\n",
      "Comedy: 2\n",
      "Romance: 1\n",
      "Drama: 10\n",
      "Action: 3\n",
      "Acting Performance: 10\n",
      "Engagingness: 10\n",
      "------------------------------------------\n",
      "Movie Name: 12 Angry Men (1957)\n",
      "Characteristics:\n",
      "Comedy: 2\n",
      "Romance: 1\n",
      "Drama: 10\n",
      "Action: 1\n",
      "Acting Performance: 10\n",
      "Engagingness: 9\n",
      "------------------------------------------\n",
      "Movie Name: Schindler's List (1993)\n",
      "Characteristics:\n",
      "Comedy: 1\n",
      "Romance: 2\n",
      "Drama: 10\n",
      "Action: 2\n",
      "Acting Performance: 10\n",
      "Engagingness: 9\n",
      "------------------------------------------\n"
     ]
    }
   ],
   "source": [
    "# Displaying movies characteristics based on indices, limited to num_movies\n",
    "print(\"\\nMovies closest to your criteria:\")\n",
    "for idx in indices[0][:num_movies]:  # Limiting to num_movies\n",
    "    movie_data = data.iloc[idx]\n",
    "    print(f\"Movie Name: {movie_data['Movie Title']}\")  # Corrected to 'Movie Title'\n",
    "    print(\"Characteristics:\")\n",
    "    for column in weighted_features.columns:\n",
    "        print(f\"{column}: {movie_data[column]}\")  # These are the original, unweighted values\n",
    "    print(\"------------------------------------------\")"
   ]
  }
 ],
 "metadata": {
  "kernelspec": {
   "display_name": "Python 3 (ipykernel)",
   "language": "python",
   "name": "python3"
  },
  "language_info": {
   "codemirror_mode": {
    "name": "ipython",
    "version": 3
   },
   "file_extension": ".py",
   "mimetype": "text/x-python",
   "name": "python",
   "nbconvert_exporter": "python",
   "pygments_lexer": "ipython3",
   "version": "3.11.5"
  }
 },
 "nbformat": 4,
 "nbformat_minor": 5
}
